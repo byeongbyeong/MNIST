{
 "cells": [
  {
   "cell_type": "code",
   "execution_count": 4,
   "id": "108e0a50-5204-454d-928b-135507429b53",
   "metadata": {},
   "outputs": [],
   "source": [
    "import torch # pytorch import\n",
    "import torch.nn as nn # 딥러닝 네트워크 기본 구성요소 포함한 모듈\n",
    "import torch.nn.functional as F #딥러닝에 자주 사용되는 함수가 포함된 모듈\n",
    "import torch.optim as optim #가중치 추정에 필요한 최적화 알고리즘을 포함\n",
    "from torchvision import datasets, transforms # torchvision : 딥러닝에서 자주 사용되는 데이터셋과 모델구조 및 이미지변환 기술 포함\n",
    "\n",
    "from matplotlib import pyplot as plt #데이터 시각화 모듈 matplotlib에서 pyplot 함수 불러옴\n",
    "%matplotlib inline \n",
    "#주피터노트북 사용자일 경우 코드 실행시 브라우저에서 바로 그림을 보고싶을때 필요한 코드"
   ]
  },
  {
   "cell_type": "markdown",
   "id": "8fd5029f-885b-44c2-a307-7f0b90b68db4",
   "metadata": {},
   "source": [
    "# 분석환경 설정"
   ]
  },
  {
   "cell_type": "code",
   "execution_count": 11,
   "id": "da311183-8648-415a-81a6-86ae78d8f6de",
   "metadata": {},
   "outputs": [],
   "source": [
    "is_cuda = torch.cuda.is_available() #false -> cuda gpu 사용 불가"
   ]
  },
  {
   "cell_type": "code",
   "execution_count": 12,
   "id": "48f22d7f-b412-4d28-bab3-42e50fb6df92",
   "metadata": {},
   "outputs": [],
   "source": [
    "device = torch.device('cuda' if is_cuda else 'cpu')"
   ]
  },
  {
   "cell_type": "code",
   "execution_count": 14,
   "id": "0ab251b1-bcc8-47b4-b56b-37ce49057127",
   "metadata": {},
   "outputs": [
    {
     "name": "stdout",
     "output_type": "stream",
     "text": [
      "Current cuda device is cpu\n"
     ]
    }
   ],
   "source": [
    "print('Current cuda device is', device) #GPU 사용 불가하므로 CPU만 사용"
   ]
  },
  {
   "cell_type": "markdown",
   "id": "309c1a70-ed23-4d7a-a925-76bd2a5a25b8",
   "metadata": {},
   "source": [
    "# HyperParameter 지정"
   ]
  },
  {
   "cell_type": "code",
   "execution_count": 16,
   "id": "843ded4f-9032-457e-bca6-b14be072238e",
   "metadata": {},
   "outputs": [],
   "source": [
    "batch_size = 50 #모델 가중치를 한 번 업데이트시킬 때 사용되는 샘플 단위 개수(=미니 배치 사이즈)\n",
    "epoch_num = 15 #학습 데이터를 모두 사용하여 학습하는 기본 단위 횟수(=epoch수)\n",
    "learning_rate = 0.0001 #가중치 업데이트의 정도(=학습률)"
   ]
  },
  {
   "cell_type": "markdown",
   "id": "2f611a98-5e84-413e-8a0f-e0415650e28a",
   "metadata": {},
   "source": [
    "# MNIST 데이터 불러오기\n",
    "MNIST데이터는 단일채널이며, [1,28,28]3차원텐서임"
   ]
  },
  {
   "cell_type": "code",
   "execution_count": 21,
   "id": "e67a7d8d-fb68-4b26-a886-526c615d4470",
   "metadata": {},
   "outputs": [
    {
     "name": "stdout",
     "output_type": "stream",
     "text": [
      "number of training data :  60000\n",
      "number of test data :  10000\n"
     ]
    }
   ],
   "source": [
    "train_data = datasets.MNIST(root = './data', train = True, download = True,\n",
    "                            transform = transforms.ToTensor())\n",
    "test_data = datasets.MNIST(root = './data', train = False,\n",
    "                           transform = transforms.ToTensor())\n",
    "\n",
    "#root - MNIST데이터를 저장할 물리적 공간위치. './data' = 현재 폴터 위치의 data라는 폴더 (없으면 생성됌)\n",
    "#train - 데이터를 학습용으로 사용할 것인지 지정\n",
    "#download - True를 입력하면 root옵션에서 지정된 위치에 데이터가 저장, 만약 처음 시행이 아니고 이미 저장된 데이터가 있으면 False 입력\n",
    "#transform - MNIST데이터를 저장과 동시에 전처리를 할 수 있는 옵션 pytorch는 입력데이터로 Tensor를 사용하므로 이미지를 Tensor로 변형하는 전처리 transforms.ToTensor()사용\n",
    "\n",
    "print('number of training data : ', len(train_data))\n",
    "print('number of test data : ', len(test_data))"
   ]
  },
  {
   "cell_type": "code",
   "execution_count": 31,
   "id": "bb156e6a-5925-4281-a2fa-2929bf6cf244",
   "metadata": {},
   "outputs": [
    {
     "data": {
      "image/png": "[encoded data removed]",
      "text/plain": [
       "<Figure size 640x480 with 1 Axes>"
      ]
     },
     "metadata": {},
     "output_type": "display_data"
    }
   ],
   "source": [
    "image, label = train_data[0] #첫번째 학습데이터의 입력데이터와 정답을 저장\n",
    "\n",
    "plt.imshow(image.squeeze().numpy(), cmap = 'gray') #3차원텐서를 2차원으로 줄이기 위해 image.squeeze()를 사용\n",
    "#squeeze 함수는 크기가 1인 차원을 없애는 함수 [1,28,28] -> [28,28]로 만듦\n",
    "plt.title('label : %s' %label)\n",
    "plt.show()"
   ]
  },
  {
   "cell_type": "markdown",
   "id": "89deecbb-2907-4745-a2c7-e9917d7df62e",
   "metadata": {},
   "source": [
    "# 미니배치 구성하기"
   ]
  },
  {
   "cell_type": "code",
   "execution_count": 34,
   "id": "f1c01640-ed33-403e-bf4b-ac042ce6d2b1",
   "metadata": {},
   "outputs": [
    {
     "name": "stdout",
     "output_type": "stream",
     "text": [
      "name            | type                      | size\n",
      "num of batch    |                           | 1200\n",
      "first_batch     | <class 'list'>            | 2\n",
      "first_batch[0]  | <class 'torch.Tensor'>    | torch.Size([50, 1, 28, 28])\n",
      "first_batch[1]  | <class 'torch.Tensor'>    | torch.Size([50])\n"
     ]
    }
   ],
   "source": [
    "train_loader = torch.utils.data.DataLoader(dataset = train_data, batch_size = batch_size, shuffle = True) #shuffle의 경우 시계열 데이터가 아니면 순서학습 못하도록 필수\n",
    "test_loader = torch.utils.data.DataLoader(dataset = test_data, batch_size = batch_size, shuffle = True)\n",
    "\n",
    "first_batch = train_loader.__iter__().__next__()\n",
    "print('{:15s} | {:<25s} | {}'.format('name', 'type', 'size'))\n",
    "print('{:15s} | {:<25s} | {}'.format('num of batch', '', len(train_loader)))\n",
    "print('{:15s} | {:<25s} | {}'.format('first_batch', str(type(first_batch)), len(first_batch)))\n",
    "print('{:15s} | {:<25s} | {}'.format('first_batch[0]', str(type(first_batch[0])), first_batch[0].shape))\n",
    "print('{:15s} | {:<25s} | {}'.format('first_batch[1]', str(type(first_batch[1])), first_batch[1].shape))"
   ]
  },
  {
   "cell_type": "markdown",
   "id": "038c46ae-6229-4fb4-ab10-424d57110dd8",
   "metadata": {},
   "source": [
    "60000학습데이터에서 배치사이즈가 50이므로 1200 미니배치 생성\n",
    "\n",
    "first_batch[0]은 [50,1,28,28]의 4차원텐서임. [batchsize, channel, width, height] (데이터 하나는 3차원이지만 데이터가 쌓여 4차원이됌)\n",
    "\n",
    "first_batch[1]은 50크기의 벡터. 미니 배치의 정답이 저장된 상태.\n"
   ]
  },
  {
   "cell_type": "markdown",
   "id": "978e3095-555b-4951-b4be-d37657d2379e",
   "metadata": {},
   "source": [
    "# 모델학습"
   ]
  },
  {
   "cell_type": "markdown",
   "id": "e5034e0b-c55f-4d45-9711-b2cf02078092",
   "metadata": {},
   "source": [
    "layer를 쌓을 때 핵심은 이전 layer의 출력크기와 직후 layer의 입력크기를 같게 설계해야함.\n",
    "\n",
    "사용할 CNN구조는 2개의 convolutional layer와 2개의 fully connected layer로 설계함"
   ]
  },
  {
   "cell_type": "markdown",
   "id": "3a1d93be-dd4a-4350-a552-6b62718ef999",
   "metadata": {},
   "source": [
    "한개의 텐서가 입력레이어부터 출력레이어까지 어떻게 변할까?\n",
    "\n",
    "입력 데이터 [channel = 1, width = 28, height = 28]\n",
    "\n",
    "                  |  ->(conv1 (1,3,3) @ 32)\n",
    "                  \n",
    "              [32,26,26]\n",
    "                  \n",
    "                  |  ->(conv2 (32,3,3) @ 64)\n",
    "                  \n",
    "              [64,24,24]\n",
    "              \n",
    "                  |  -> max-pooling\n",
    "                  \n",
    "              [64,12,12]\n",
    "              \n",
    "                  |  -> Flatten\n",
    "                  \n",
    "              [64x12x12]\n",
    "              \n",
    "                  |  ->FC1 (9216, 128)\n",
    "                \n",
    "                [128]\n",
    "               \n",
    "                  |. ->FC2 (128, 10)\n",
    "                  \n",
    "            출력 클래스 : [10]\n",
    "                  "
   ]
  },
  {
   "cell_type": "markdown",
   "id": "ba334a32-0a6e-4741-a444-557215a0924c",
   "metadata": {},
   "source": [
    "데이터 형태 [], 가중치인 필터형태 (), @ - 필터개수"
   ]
  },
  {
   "cell_type": "markdown",
   "id": "77280ebe-015c-46fc-a942-e58de08b8e70",
   "metadata": {},
   "source": [
    "ex ) conv1 (1,3,3) @ 32 -> filter channel =1, filter width =3, filter height =3 의 필터를 32개 사용"
   ]
  },
  {
   "cell_type": "markdown",
   "id": "3dcd0e0f-dbd5-406e-9c7a-2f91b8270dca",
   "metadata": {},
   "source": [
    "    [1,28,28] -> [32,26,26]된 이유 :\n",
    "    \n",
    "    1. 채널의 크기는 필터개수로 결정.\n",
    "    \n",
    "    2. 가로세로 크기는 필터사이즈(F), stride 크기(S), padding 크기(P)에 따라 출력되는 feature map의 사이즈(O)공식에 의해 결정\n",
    "    \n",
    "        해당 nn.Conv2d함수는 padding = 0, stride = 1을 기본값으로 사용하므로\n",
    "    \n",
    "        O = (I + 2P - F)/S +1 = (28 + 2x0 -3)/1 +1 = 26\n",
    "        \n",
    "    3. max pooling의 경우 tensor의 가로 세로에만 영향을 주므로 [64,24,24]에서 [64,12,12]로 반감\n",
    "    \n",
    "    4. flatten연산은 fully-connected layer연산을 위해 고차원 텐서를 1차원으로 줄이는 것으로 3차원텐서를 9216길이의 1차원 벡터로 변환\n",
    "    \n",
    "    5. fc2에서는 각 출력 클래스의 분류확률을 받기 위해 크기를 반드시 맞춰야하며, MNIST는 0~9까지 10개의 클래스이므로 10의 길이로 구성."
   ]
  },
  {
   "cell_type": "code",
   "execution_count": 43,
   "id": "ea2b4429-6e04-400a-8956-3cac5563166d",
   "metadata": {},
   "outputs": [],
   "source": [
    "class CNN(nn.Module):                             #nn.Module 클래스를 상속받는 CNN 클래스 정의\n",
    "    def __init__(self):                           #__init__을 통해 모델에서 사용되는 가중치 정의\n",
    "        super(CNN, self).__init__()               #super함수를 통해 nn.Module클래스의 속성을 상속받고 초기화함\n",
    "        self.conv1 = nn.Conv2d(1, 32, 3, 1)       #(in_channel = 1, out_channel =32(다음채널 in크기와 같아야함), kernel_size = 3, stride = 1)\n",
    "        self.conv2 = nn.Conv2d(32, 64, 3, 1)      #kernel_size는 필터의 크기를 나타내며, 스칼라값으로 지정시 가로세로크기가 같은 2d필터 생성됌. 3이면 3x3필터\n",
    "                                                  #stride는 필터가 움직이는 단위, padding 옵션은 지정하지 않았으므로 기본 패팅값 0이 적용되고 시행되지 않음\n",
    "        self.dropout1 = nn.Dropout2d(0.25)        #0.25확률의 드롭아웃1 지정\n",
    "        self.dropout2 = nn.Dropout2d(0.5)         #0.5확률의 드롭아웃2 지정\n",
    "        self.fc1 = nn.Linear(9216, 128)           # 9216의 크기의 벡터를 128크기의 백터로 변환하는 가중치 설계\n",
    "        self.fc2 = nn.Linear(128, 10)             # 128크기의 벡터를 10 크기의 벡터로 변환하는 가중치 설계\n",
    "        \n",
    "    def forward(self, x) :                        #입력이미지(x)와 정의한 가중치를 이용해 feed forward연산을 정의\n",
    "        x = self.conv1(x)                         #입력이미지를 conv1 레이어에 통과시킴\n",
    "        x = F.relu(x)                             #ReLU활성 함수 적용, 활성함수는 단순 연산이므로 __init__에서 정의한 학습 가중치가 없음\n",
    "        x = self.conv2(x)                         #conv2 레이어 통과\n",
    "        x = F.relu(x)                             #ReLU활성 함수 적용\n",
    "        x = F.max_pool2d(x, 2)                    #(2x2)크기의 필터로 maxpooling적용. pooling layer는 단순 연산이므로 학습할 가중치 없음\n",
    "        x = self.dropout1(x)                      #사전에 정의한 0.25확률의 dropout1반영\n",
    "        x = torch.flatten(x, 1)                   #고차원 텐서를 1차원 텐서로 변환 64,12,12 3차원 -> 9216 1차원벡터\n",
    "        x = self.fc1(x)                           #9216크기의 벡터를 128크기의 벡터로 학습하는 fc1통과\n",
    "        x = F.relu(x)                             #ReLU활성함수 적용\n",
    "        x = self.dropout2(x)                      #사전에 정의한 0.5확률의 드롭아웃2반영\n",
    "        x = self.fc2(x)                           #fc2통과하며 128->10으로 줄어듬\n",
    "        output = F.log_softmax(x, dim = 1)        #최종 출력값으로 log-softmax계산. softmax가아닌 log_softmax()를 사용시 연산속도 높일 수 있음\n",
    "        return output                             #최종 출력값 반환"
   ]
  },
  {
   "cell_type": "markdown",
   "id": "d4faf80f-1d43-4ecc-8209-7b2f0cafd84c",
   "metadata": {},
   "source": [
    "# Optimizer 및 손실 함수 정의"
   ]
  },
  {
   "cell_type": "code",
   "execution_count": 44,
   "id": "3e9c8585-9abc-4d17-a583-b3141bd6a50b",
   "metadata": {},
   "outputs": [],
   "source": [
    "model = CNN().to(device)\n",
    "optimizer = optim.Adam(model.parameters(), lr = learning_rate)\n",
    "criterion = nn.CrossEntropyLoss()"
   ]
  },
  {
   "cell_type": "markdown",
   "id": "cadf89da-1078-4646-9c45-17849e0d692e",
   "metadata": {},
   "source": [
    "CNN클래스를 이용해 model이라는 인스턴스 생성. 이때, 코드 상단에서 지정한 연산 장비(GPU/CPU)인식\n",
    "\n",
    "손실함수를 최소로하는 가중치를 찾기위해 Adam알고리즘의 optimizer지정\n",
    "\n",
    "MNIST는 다중 클래스 분류 문제이기에 cross entropy를 손실함수로 설정"
   ]
  },
  {
   "cell_type": "markdown",
   "id": "2bb23e5f-9cb4-44f7-a1e9-8cd76e9ecca2",
   "metadata": {},
   "source": [
    "# 설계한 CNN모형 확인"
   ]
  },
  {
   "cell_type": "code",
   "execution_count": 45,
   "id": "3ae6e4ad-cd06-43cb-b3dd-abfb2a7f3dfd",
   "metadata": {},
   "outputs": [
    {
     "name": "stdout",
     "output_type": "stream",
     "text": [
      "CNN(\n",
      "  (conv1): Conv2d(1, 32, kernel_size=(3, 3), stride=(1, 1))\n",
      "  (conv2): Conv2d(32, 64, kernel_size=(3, 3), stride=(1, 1))\n",
      "  (dropout1): Dropout2d(p=0.25, inplace=False)\n",
      "  (dropout2): Dropout2d(p=0.5, inplace=False)\n",
      "  (fc1): Linear(in_features=9216, out_features=128, bias=True)\n",
      "  (fc2): Linear(in_features=128, out_features=10, bias=True)\n",
      ")\n"
     ]
    }
   ],
   "source": [
    "print(model)"
   ]
  },
  {
   "cell_type": "markdown",
   "id": "44626254-b5f1-4a31-a085-7cb7f33491d2",
   "metadata": {},
   "source": [
    "# 모델학습"
   ]
  },
  {
   "cell_type": "code",
   "execution_count": 48,
   "id": "27f8569b-71c1-4a83-ace6-0a30c0530754",
   "metadata": {},
   "outputs": [
    {
     "name": "stderr",
     "output_type": "stream",
     "text": [
      "/Library/Frameworks/Python.framework/Versions/3.10/lib/python3.10/site-packages/torch/nn/functional.py:1331: UserWarning: dropout2d: Received a 2-D input to dropout2d, which is deprecated and will result in an error in a future release. To retain the behavior and silence this warning, please use dropout instead. Note that dropout2d exists to provide channel-wise dropout on inputs with 2 spatial dimensions, a channel dimension, and an optional batch dimension (i.e. 3D or 4D inputs).\n",
      "  warnings.warn(warn_msg)\n"
     ]
    },
    {
     "name": "stdout",
     "output_type": "stream",
     "text": [
      "Train Step: 0\tLoss: 2.319\n",
      "Train Step: 1000\tLoss: 0.206\n",
      "Train Step: 2000\tLoss: 0.390\n",
      "Train Step: 3000\tLoss: 0.367\n",
      "Train Step: 4000\tLoss: 0.364\n",
      "Train Step: 5000\tLoss: 0.121\n",
      "Train Step: 6000\tLoss: 0.110\n",
      "Train Step: 7000\tLoss: 0.052\n",
      "Train Step: 8000\tLoss: 0.066\n",
      "Train Step: 9000\tLoss: 0.135\n",
      "Train Step: 10000\tLoss: 0.042\n",
      "Train Step: 11000\tLoss: 0.074\n",
      "Train Step: 12000\tLoss: 0.016\n",
      "Train Step: 13000\tLoss: 0.029\n",
      "Train Step: 14000\tLoss: 0.024\n",
      "Train Step: 15000\tLoss: 0.024\n",
      "Train Step: 16000\tLoss: 0.020\n",
      "Train Step: 17000\tLoss: 0.015\n"
     ]
    }
   ],
   "source": [
    "model.train()                                    #CNN클래스가 저장된 model인스턴스를 학습모드로 실행할 것 명시\n",
    "i=0                                              #반복 학습중 손실함수 현황을 확인하고자 학습횟수 나타내는 보조 인텍스 지정\n",
    "for epoch in range(epoch_num):                   #미리저장해둔 epoch수만큼 반복문 돌림\n",
    "    for data, target in train_loader:            #학습 데이터를 배치사이즈로 나눈만큼 반복, train_loader는 매 시행시 미니배치의 데이터와 정답을 data와 target에 저장\n",
    "        data = data.to(device)                   #미니배치의 데이터를 기존에 지정한 device(GPU/CPU)에 할당\n",
    "        target = target.to(device)               #미니배치의 정답을 기존에 지정한 장비에 할당\n",
    "        optimizer.zero_grad()                    #학습시작전 이전반복 시행에서 저장된 optimizer의 gradient를 초기화\n",
    "        output = model(data)                     #미니 배치 데이터를 모델에 통과시키는 feedforward연산으로 결과값 계산\n",
    "        loss = criterion(output, target)         #계산된 결과값과 실제 정답으로 손실함수 계산\n",
    "        loss.backward()                          #손실함수를 통해 gradient계산\n",
    "        optimizer.step()                         #위에서 계산된 gradient를 통해 모델의 가중치 업데이트\n",
    "        if i % 1000 == 0:                        #학습이 잘되고있는지 확인하고자 1000번째 수행마다 손실함수 확인하기 위한 if문\n",
    "            print('Train Step: {}\\tLoss: {:.3f}'.format(i, loss.item()))          #손실함수 출력\n",
    "        i += 1                                   #학습을 완료했기때문에 보조인덱스 1올림"
   ]
  },
  {
   "cell_type": "markdown",
   "id": "537bb19b-d77c-4bb5-a93d-760e8dea6239",
   "metadata": {},
   "source": [
    "# 모델 평가"
   ]
  },
  {
   "cell_type": "code",
   "execution_count": 54,
   "id": "dd14f3c3-2975-448d-bab2-cae4fdb66e30",
   "metadata": {},
   "outputs": [
    {
     "name": "stdout",
     "output_type": "stream",
     "text": [
      "Test set: Accuracy: 98.96%\n"
     ]
    }
   ],
   "source": [
    "model.eval()                                      #eval 함수 호출시 dropout적용되지 않고 batch normalization도 평가모드로 전환됌.\n",
    "correct = 0                                       #정답개수 저장할 correct를 초기화\n",
    "for data, target in test_loader :                 #테스트 데이터를 batchsize로 나눈만큼 반복 수행.\n",
    "    data = data.to(device)                        #미니배치의 데이터를 기존에 지정한 device에 할당\n",
    "    target = target.to(device)                    #미니배치의 정답을 기존에 지정한 device에 할당\n",
    "    output = model(data)                          #미니배치 데이터를 모델에 통과시켜 결과값 계산\n",
    "    prediction = output.data.max(1)[1]            #log-softmax 값이 가장 큰 인덱스를 예측값으로 저장\n",
    "    correct += prediction.eq(target.data).sum()   #실제 정답과 예측값 같으면 True, 다르면 False로 구성된 벡터를 더함. 즉 미니배치중 정답개수를 구하고 반복시마다 누적하여 합\n",
    "    \n",
    "print('Test set: Accuracy: {:.2f}%'.format(100 * correct / len(test_loader.dataset))) #전체 테스트데이터 중 맞춘개수의 비율을 통해 정확도 계산"
   ]
  },
  {
   "cell_type": "markdown",
   "id": "c95b7408-146d-46cb-a5eb-eebb8de076fb",
   "metadata": {},
   "source": [
    "정확도의 경우 가중치 초기설정과 dropout등 확률(랜덤)으로 구현되는 부분이 있으므로 매번 동일하게 나올 수 없음."
   ]
  },
  {
   "cell_type": "code",
   "execution_count": null,
   "id": "88845263-6d9e-4154-b336-c895cf7da0e1",
   "metadata": {},
   "outputs": [],
   "source": []
  },
  {
   "cell_type": "code",
   "execution_count": null,
   "id": "0bcf5cc5-c463-420f-8398-2859085ad031",
   "metadata": {},
   "outputs": [],
   "source": []
  },
  {
   "cell_type": "code",
   "execution_count": null,
   "id": "9f974633-492d-451a-927a-0692ac76863f",
   "metadata": {},
   "outputs": [],
   "source": []
  }
 ],
 "metadata": {
  "kernelspec": {
   "display_name": "Python 3 (ipykernel)",
   "language": "python",
   "name": "python3"
  },
  "language_info": {
   "codemirror_mode": {
    "name": "ipython",
    "version": 3
   },
   "file_extension": ".py",
   "mimetype": "text/x-python",
   "name": "python",
   "nbconvert_exporter": "python",
   "pygments_lexer": "ipython3",
   "version": "3.10.9"
  }
 },
 "nbformat": 4,
 "nbformat_minor": 5
}
